{
 "cells": [
  {
   "cell_type": "markdown",
   "id": "3a44ad4b",
   "metadata": {},
   "source": [
    "# Assignment 2 - Group 1"
   ]
  },
  {
   "cell_type": "markdown",
   "id": "816f0d34",
   "metadata": {},
   "source": [
    "# 03 - Data Cleaning"
   ]
  },
  {
   "cell_type": "code",
   "execution_count": 3,
   "id": "87e128ee",
   "metadata": {},
   "outputs": [],
   "source": [
    "# Importing libraries\n",
    "import pandas as pd\n",
    "import numpy as np\n",
    "import matplotlib.pyplot as plt  "
   ]
  },
  {
   "cell_type": "code",
   "execution_count": 4,
   "id": "31c40804",
   "metadata": {},
   "outputs": [],
   "source": [
    "# Creating a DataFrame from a csv file\n",
    "weather = pd.read_csv(\"weather.csv\", encoding = \"latin-1\") "
   ]
  },
  {
   "cell_type": "code",
   "execution_count": 5,
   "id": "9470e529",
   "metadata": {},
   "outputs": [
    {
     "data": {
      "text/html": [
       "<div>\n",
       "<style scoped>\n",
       "    .dataframe tbody tr th:only-of-type {\n",
       "        vertical-align: middle;\n",
       "    }\n",
       "\n",
       "    .dataframe tbody tr th {\n",
       "        vertical-align: top;\n",
       "    }\n",
       "\n",
       "    .dataframe thead th {\n",
       "        text-align: right;\n",
       "    }\n",
       "</style>\n",
       "<table border=\"1\" class=\"dataframe\">\n",
       "  <thead>\n",
       "    <tr style=\"text-align: right;\">\n",
       "      <th></th>\n",
       "      <th>Location</th>\n",
       "      <th>Date</th>\n",
       "      <th>Minimum temperature (°C)</th>\n",
       "      <th>Maximum temperature (°C)</th>\n",
       "      <th>Rainfall (mm)</th>\n",
       "      <th>Evaporation (mm)</th>\n",
       "      <th>Sunshine (hours)</th>\n",
       "      <th>Direction of maximum wind gust</th>\n",
       "      <th>Speed of maximum wind gust (km/h)</th>\n",
       "      <th>Time of maximum wind gust</th>\n",
       "      <th>...</th>\n",
       "      <th>9am cloud amount (oktas)</th>\n",
       "      <th>9am wind direction</th>\n",
       "      <th>9am wind speed (km/h)</th>\n",
       "      <th>9am MSL pressure (hPa)</th>\n",
       "      <th>3pm Temperature (°C)</th>\n",
       "      <th>3pm relative humidity (%)</th>\n",
       "      <th>3pm cloud amount (oktas)</th>\n",
       "      <th>3pm wind direction</th>\n",
       "      <th>3pm wind speed (km/h)</th>\n",
       "      <th>3pm MSL pressure (hPa)</th>\n",
       "    </tr>\n",
       "  </thead>\n",
       "  <tbody>\n",
       "    <tr>\n",
       "      <th>0</th>\n",
       "      <td>Melbourne (Olympic Park), Victoria</td>\n",
       "      <td>1/11/2022</td>\n",
       "      <td>8.5</td>\n",
       "      <td>13.3</td>\n",
       "      <td>3.0</td>\n",
       "      <td>NaN</td>\n",
       "      <td>NaN</td>\n",
       "      <td>SW</td>\n",
       "      <td>44.0</td>\n",
       "      <td>11:36</td>\n",
       "      <td>...</td>\n",
       "      <td>NaN</td>\n",
       "      <td>NW</td>\n",
       "      <td>13</td>\n",
       "      <td>991.3</td>\n",
       "      <td>13.2</td>\n",
       "      <td>59.0</td>\n",
       "      <td>NaN</td>\n",
       "      <td>WNW</td>\n",
       "      <td>11.0</td>\n",
       "      <td>991.5</td>\n",
       "    </tr>\n",
       "    <tr>\n",
       "      <th>1</th>\n",
       "      <td>Melbourne (Olympic Park), Victoria</td>\n",
       "      <td>2/11/2022</td>\n",
       "      <td>6.9</td>\n",
       "      <td>15.7</td>\n",
       "      <td>2.8</td>\n",
       "      <td>NaN</td>\n",
       "      <td>NaN</td>\n",
       "      <td>SSW</td>\n",
       "      <td>43.0</td>\n",
       "      <td>11:33</td>\n",
       "      <td>...</td>\n",
       "      <td>NaN</td>\n",
       "      <td>W</td>\n",
       "      <td>9</td>\n",
       "      <td>1006.7</td>\n",
       "      <td>15.1</td>\n",
       "      <td>54.0</td>\n",
       "      <td>NaN</td>\n",
       "      <td>SSW</td>\n",
       "      <td>13.0</td>\n",
       "      <td>1008.4</td>\n",
       "    </tr>\n",
       "    <tr>\n",
       "      <th>2</th>\n",
       "      <td>Melbourne (Olympic Park), Victoria</td>\n",
       "      <td>3/11/2022</td>\n",
       "      <td>9.1</td>\n",
       "      <td>15.4</td>\n",
       "      <td>0.4</td>\n",
       "      <td>NaN</td>\n",
       "      <td>NaN</td>\n",
       "      <td>SSW</td>\n",
       "      <td>31.0</td>\n",
       "      <td>8:07</td>\n",
       "      <td>...</td>\n",
       "      <td>NaN</td>\n",
       "      <td>SSW</td>\n",
       "      <td>9</td>\n",
       "      <td>1019.2</td>\n",
       "      <td>13.8</td>\n",
       "      <td>67.0</td>\n",
       "      <td>NaN</td>\n",
       "      <td>SSW</td>\n",
       "      <td>9.0</td>\n",
       "      <td>1021.3</td>\n",
       "    </tr>\n",
       "    <tr>\n",
       "      <th>3</th>\n",
       "      <td>Melbourne (Olympic Park), Victoria</td>\n",
       "      <td>4/11/2022</td>\n",
       "      <td>10.2</td>\n",
       "      <td>17.8</td>\n",
       "      <td>0.2</td>\n",
       "      <td>NaN</td>\n",
       "      <td>NaN</td>\n",
       "      <td>S</td>\n",
       "      <td>24.0</td>\n",
       "      <td>14:50</td>\n",
       "      <td>...</td>\n",
       "      <td>NaN</td>\n",
       "      <td>WSW</td>\n",
       "      <td>6</td>\n",
       "      <td>1028.1</td>\n",
       "      <td>16.9</td>\n",
       "      <td>56.0</td>\n",
       "      <td>NaN</td>\n",
       "      <td>SW</td>\n",
       "      <td>9.0</td>\n",
       "      <td>1026.6</td>\n",
       "    </tr>\n",
       "    <tr>\n",
       "      <th>4</th>\n",
       "      <td>Melbourne (Olympic Park), Victoria</td>\n",
       "      <td>5/11/2022</td>\n",
       "      <td>11.8</td>\n",
       "      <td>22.7</td>\n",
       "      <td>0.0</td>\n",
       "      <td>NaN</td>\n",
       "      <td>NaN</td>\n",
       "      <td>N</td>\n",
       "      <td>31.0</td>\n",
       "      <td>11:58</td>\n",
       "      <td>...</td>\n",
       "      <td>NaN</td>\n",
       "      <td>N</td>\n",
       "      <td>9</td>\n",
       "      <td>1026.3</td>\n",
       "      <td>18.8</td>\n",
       "      <td>65.0</td>\n",
       "      <td>NaN</td>\n",
       "      <td>SW</td>\n",
       "      <td>11.0</td>\n",
       "      <td>1023.2</td>\n",
       "    </tr>\n",
       "    <tr>\n",
       "      <th>...</th>\n",
       "      <td>...</td>\n",
       "      <td>...</td>\n",
       "      <td>...</td>\n",
       "      <td>...</td>\n",
       "      <td>...</td>\n",
       "      <td>...</td>\n",
       "      <td>...</td>\n",
       "      <td>...</td>\n",
       "      <td>...</td>\n",
       "      <td>...</td>\n",
       "      <td>...</td>\n",
       "      <td>...</td>\n",
       "      <td>...</td>\n",
       "      <td>...</td>\n",
       "      <td>...</td>\n",
       "      <td>...</td>\n",
       "      <td>...</td>\n",
       "      <td>...</td>\n",
       "      <td>...</td>\n",
       "      <td>...</td>\n",
       "      <td>...</td>\n",
       "    </tr>\n",
       "    <tr>\n",
       "      <th>170</th>\n",
       "      <td>Melbourne (Olympic Park), Victoria</td>\n",
       "      <td>20/04/2023</td>\n",
       "      <td>7.8</td>\n",
       "      <td>18.5</td>\n",
       "      <td>0.0</td>\n",
       "      <td>NaN</td>\n",
       "      <td>NaN</td>\n",
       "      <td>SSW</td>\n",
       "      <td>17.0</td>\n",
       "      <td>12:47</td>\n",
       "      <td>...</td>\n",
       "      <td>NaN</td>\n",
       "      <td>NNE</td>\n",
       "      <td>7</td>\n",
       "      <td>1026.8</td>\n",
       "      <td>17.5</td>\n",
       "      <td>58.0</td>\n",
       "      <td>NaN</td>\n",
       "      <td>SW</td>\n",
       "      <td>4.0</td>\n",
       "      <td>1025.5</td>\n",
       "    </tr>\n",
       "    <tr>\n",
       "      <th>171</th>\n",
       "      <td>Melbourne (Olympic Park), Victoria</td>\n",
       "      <td>21/04/2023</td>\n",
       "      <td>11.3</td>\n",
       "      <td>19.0</td>\n",
       "      <td>0.0</td>\n",
       "      <td>NaN</td>\n",
       "      <td>NaN</td>\n",
       "      <td>SSW</td>\n",
       "      <td>13.0</td>\n",
       "      <td>10:48</td>\n",
       "      <td>...</td>\n",
       "      <td>NaN</td>\n",
       "      <td>NE</td>\n",
       "      <td>6</td>\n",
       "      <td>1030.5</td>\n",
       "      <td>18.6</td>\n",
       "      <td>64.0</td>\n",
       "      <td>NaN</td>\n",
       "      <td>SSE</td>\n",
       "      <td>2.0</td>\n",
       "      <td>1029.2</td>\n",
       "    </tr>\n",
       "    <tr>\n",
       "      <th>172</th>\n",
       "      <td>Melbourne (Olympic Park), Victoria</td>\n",
       "      <td>22/04/2023</td>\n",
       "      <td>14.6</td>\n",
       "      <td>19.2</td>\n",
       "      <td>0.0</td>\n",
       "      <td>NaN</td>\n",
       "      <td>NaN</td>\n",
       "      <td>SSW</td>\n",
       "      <td>22.0</td>\n",
       "      <td>16:09</td>\n",
       "      <td>...</td>\n",
       "      <td>NaN</td>\n",
       "      <td>SW</td>\n",
       "      <td>6</td>\n",
       "      <td>1031.9</td>\n",
       "      <td>18.8</td>\n",
       "      <td>64.0</td>\n",
       "      <td>NaN</td>\n",
       "      <td>SSW</td>\n",
       "      <td>11.0</td>\n",
       "      <td>1029.7</td>\n",
       "    </tr>\n",
       "    <tr>\n",
       "      <th>173</th>\n",
       "      <td>Melbourne (Olympic Park), Victoria</td>\n",
       "      <td>23/04/2023</td>\n",
       "      <td>14.8</td>\n",
       "      <td>19.0</td>\n",
       "      <td>0.0</td>\n",
       "      <td>NaN</td>\n",
       "      <td>NaN</td>\n",
       "      <td>SSW</td>\n",
       "      <td>26.0</td>\n",
       "      <td>15:45</td>\n",
       "      <td>...</td>\n",
       "      <td>NaN</td>\n",
       "      <td>SSE</td>\n",
       "      <td>7</td>\n",
       "      <td>1034.4</td>\n",
       "      <td>17.8</td>\n",
       "      <td>71.0</td>\n",
       "      <td>NaN</td>\n",
       "      <td>SSW</td>\n",
       "      <td>13.0</td>\n",
       "      <td>1032.4</td>\n",
       "    </tr>\n",
       "    <tr>\n",
       "      <th>174</th>\n",
       "      <td>Melbourne (Olympic Park), Victoria</td>\n",
       "      <td>24/04/2023</td>\n",
       "      <td>11.0</td>\n",
       "      <td>NaN</td>\n",
       "      <td>0.0</td>\n",
       "      <td>NaN</td>\n",
       "      <td>NaN</td>\n",
       "      <td>NaN</td>\n",
       "      <td>NaN</td>\n",
       "      <td>NaN</td>\n",
       "      <td>...</td>\n",
       "      <td>NaN</td>\n",
       "      <td>NE</td>\n",
       "      <td>9</td>\n",
       "      <td>1032.5</td>\n",
       "      <td>NaN</td>\n",
       "      <td>NaN</td>\n",
       "      <td>NaN</td>\n",
       "      <td>NaN</td>\n",
       "      <td>NaN</td>\n",
       "      <td>NaN</td>\n",
       "    </tr>\n",
       "  </tbody>\n",
       "</table>\n",
       "<p>175 rows × 22 columns</p>\n",
       "</div>"
      ],
      "text/plain": [
       "                               Location        Date  Minimum temperature (°C)  \\\n",
       "0    Melbourne (Olympic Park), Victoria   1/11/2022                       8.5   \n",
       "1    Melbourne (Olympic Park), Victoria   2/11/2022                       6.9   \n",
       "2    Melbourne (Olympic Park), Victoria   3/11/2022                       9.1   \n",
       "3    Melbourne (Olympic Park), Victoria   4/11/2022                      10.2   \n",
       "4    Melbourne (Olympic Park), Victoria   5/11/2022                      11.8   \n",
       "..                                  ...         ...                       ...   \n",
       "170  Melbourne (Olympic Park), Victoria  20/04/2023                       7.8   \n",
       "171  Melbourne (Olympic Park), Victoria  21/04/2023                      11.3   \n",
       "172  Melbourne (Olympic Park), Victoria  22/04/2023                      14.6   \n",
       "173  Melbourne (Olympic Park), Victoria  23/04/2023                      14.8   \n",
       "174  Melbourne (Olympic Park), Victoria  24/04/2023                      11.0   \n",
       "\n",
       "     Maximum temperature (°C)  Rainfall (mm)  Evaporation (mm)  \\\n",
       "0                        13.3            3.0               NaN   \n",
       "1                        15.7            2.8               NaN   \n",
       "2                        15.4            0.4               NaN   \n",
       "3                        17.8            0.2               NaN   \n",
       "4                        22.7            0.0               NaN   \n",
       "..                        ...            ...               ...   \n",
       "170                      18.5            0.0               NaN   \n",
       "171                      19.0            0.0               NaN   \n",
       "172                      19.2            0.0               NaN   \n",
       "173                      19.0            0.0               NaN   \n",
       "174                       NaN            0.0               NaN   \n",
       "\n",
       "     Sunshine (hours) Direction of maximum wind gust   \\\n",
       "0                 NaN                              SW   \n",
       "1                 NaN                             SSW   \n",
       "2                 NaN                             SSW   \n",
       "3                 NaN                               S   \n",
       "4                 NaN                               N   \n",
       "..                ...                             ...   \n",
       "170               NaN                             SSW   \n",
       "171               NaN                             SSW   \n",
       "172               NaN                             SSW   \n",
       "173               NaN                             SSW   \n",
       "174               NaN                             NaN   \n",
       "\n",
       "     Speed of maximum wind gust (km/h) Time of maximum wind gust  ...  \\\n",
       "0                                 44.0                     11:36  ...   \n",
       "1                                 43.0                     11:33  ...   \n",
       "2                                 31.0                      8:07  ...   \n",
       "3                                 24.0                     14:50  ...   \n",
       "4                                 31.0                     11:58  ...   \n",
       "..                                 ...                       ...  ...   \n",
       "170                               17.0                     12:47  ...   \n",
       "171                               13.0                     10:48  ...   \n",
       "172                               22.0                     16:09  ...   \n",
       "173                               26.0                     15:45  ...   \n",
       "174                                NaN                       NaN  ...   \n",
       "\n",
       "     9am cloud amount (oktas)  9am wind direction  9am wind speed (km/h)  \\\n",
       "0                         NaN                  NW                     13   \n",
       "1                         NaN                   W                      9   \n",
       "2                         NaN                 SSW                      9   \n",
       "3                         NaN                 WSW                      6   \n",
       "4                         NaN                   N                      9   \n",
       "..                        ...                 ...                    ...   \n",
       "170                       NaN                 NNE                      7   \n",
       "171                       NaN                  NE                      6   \n",
       "172                       NaN                  SW                      6   \n",
       "173                       NaN                 SSE                      7   \n",
       "174                       NaN                  NE                      9   \n",
       "\n",
       "    9am MSL pressure (hPa) 3pm Temperature (°C)  3pm relative humidity (%)  \\\n",
       "0                    991.3                 13.2                       59.0   \n",
       "1                   1006.7                 15.1                       54.0   \n",
       "2                   1019.2                 13.8                       67.0   \n",
       "3                   1028.1                 16.9                       56.0   \n",
       "4                   1026.3                 18.8                       65.0   \n",
       "..                     ...                  ...                        ...   \n",
       "170                 1026.8                 17.5                       58.0   \n",
       "171                 1030.5                 18.6                       64.0   \n",
       "172                 1031.9                 18.8                       64.0   \n",
       "173                 1034.4                 17.8                       71.0   \n",
       "174                 1032.5                  NaN                        NaN   \n",
       "\n",
       "     3pm cloud amount (oktas)  3pm wind direction  3pm wind speed (km/h)  \\\n",
       "0                         NaN                 WNW                   11.0   \n",
       "1                         NaN                 SSW                   13.0   \n",
       "2                         NaN                 SSW                    9.0   \n",
       "3                         NaN                  SW                    9.0   \n",
       "4                         NaN                  SW                   11.0   \n",
       "..                        ...                 ...                    ...   \n",
       "170                       NaN                  SW                    4.0   \n",
       "171                       NaN                 SSE                    2.0   \n",
       "172                       NaN                 SSW                   11.0   \n",
       "173                       NaN                 SSW                   13.0   \n",
       "174                       NaN                 NaN                    NaN   \n",
       "\n",
       "    3pm MSL pressure (hPa)  \n",
       "0                    991.5  \n",
       "1                   1008.4  \n",
       "2                   1021.3  \n",
       "3                   1026.6  \n",
       "4                   1023.2  \n",
       "..                     ...  \n",
       "170                 1025.5  \n",
       "171                 1029.2  \n",
       "172                 1029.7  \n",
       "173                 1032.4  \n",
       "174                    NaN  \n",
       "\n",
       "[175 rows x 22 columns]"
      ]
     },
     "metadata": {},
     "output_type": "display_data"
    }
   ],
   "source": [
    "# Taking a peek at the first 5 and last 5 rows\n",
    "display(weather)"
   ]
  },
  {
   "cell_type": "code",
   "execution_count": 6,
   "id": "6ecdc6af",
   "metadata": {},
   "outputs": [
    {
     "data": {
      "text/plain": [
       "(175, 22)"
      ]
     },
     "execution_count": 6,
     "metadata": {},
     "output_type": "execute_result"
    }
   ],
   "source": [
    "# Checking the Shape of the DataFrame\n",
    "weather.shape"
   ]
  },
  {
   "cell_type": "code",
   "execution_count": 7,
   "id": "133373fd",
   "metadata": {},
   "outputs": [],
   "source": [
    "# Removing the extra whitespace in column headings\n",
    "weather.columns = weather.columns.str.strip()"
   ]
  },
  {
   "cell_type": "code",
   "execution_count": 8,
   "id": "6b021561",
   "metadata": {},
   "outputs": [
    {
     "data": {
      "text/plain": [
       "0"
      ]
     },
     "execution_count": 8,
     "metadata": {},
     "output_type": "execute_result"
    }
   ],
   "source": [
    "# Checking for duplicate rows\n",
    "weather.duplicated().sum()"
   ]
  },
  {
   "cell_type": "code",
   "execution_count": 9,
   "id": "aa9c47bd",
   "metadata": {},
   "outputs": [
    {
     "data": {
      "text/plain": [
       "Location                               0\n",
       "Date                                   0\n",
       "Minimum temperature (°C)               0\n",
       "Maximum temperature (°C)               1\n",
       "Rainfall (mm)                          0\n",
       "Evaporation (mm)                     175\n",
       "Sunshine (hours)                     175\n",
       "Direction of maximum wind gust         1\n",
       "Speed of maximum wind gust (km/h)      1\n",
       "Time of maximum wind gust              1\n",
       "9am Temperature (°C)                   0\n",
       "9am relative humidity (%)              0\n",
       "9am cloud amount (oktas)             175\n",
       "9am wind direction                     0\n",
       "9am wind speed (km/h)                  0\n",
       "9am MSL pressure (hPa)                 0\n",
       "3pm Temperature (°C)                   1\n",
       "3pm relative humidity (%)              1\n",
       "3pm cloud amount (oktas)             175\n",
       "3pm wind direction                     1\n",
       "3pm wind speed (km/h)                  1\n",
       "3pm MSL pressure (hPa)                 1\n",
       "dtype: int64"
      ]
     },
     "execution_count": 9,
     "metadata": {},
     "output_type": "execute_result"
    }
   ],
   "source": [
    "# Checking for missing values by columns\n",
    "weather.isnull().sum()"
   ]
  },
  {
   "cell_type": "code",
   "execution_count": 10,
   "id": "330cde2d",
   "metadata": {},
   "outputs": [],
   "source": [
    "# Dropping columns that are completely empty - 'Evaporation (mm)', 'Sunshine (hours)', \n",
    "# '9am cloud amount (oktas)' and '3pm cloud amount (oktas)' \n",
    "weather.drop(columns=['Evaporation (mm)', 'Sunshine (hours)', '9am cloud amount (oktas)', '3pm cloud amount (oktas)'], inplace=True)"
   ]
  },
  {
   "cell_type": "code",
   "execution_count": 11,
   "id": "2a9954e9",
   "metadata": {},
   "outputs": [
    {
     "data": {
      "text/plain": [
       "0      0\n",
       "1      0\n",
       "2      0\n",
       "3      0\n",
       "4      0\n",
       "      ..\n",
       "170    0\n",
       "171    0\n",
       "172    0\n",
       "173    0\n",
       "174    9\n",
       "Length: 175, dtype: int64"
      ]
     },
     "execution_count": 11,
     "metadata": {},
     "output_type": "execute_result"
    }
   ],
   "source": [
    "# Checking for missing values by rows\n",
    "weather.isnull().sum(axis=1)"
   ]
  },
  {
   "cell_type": "code",
   "execution_count": 12,
   "id": "10795977",
   "metadata": {},
   "outputs": [],
   "source": [
    "# Row 174 contains 9 missing values, so it is relatively safe to drop it\n",
    "weather.drop(index=174, inplace=True)"
   ]
  },
  {
   "cell_type": "code",
   "execution_count": 15,
   "id": "45a7b0fc",
   "metadata": {},
   "outputs": [
    {
     "data": {
      "text/plain": [
       "Location                             0\n",
       "Date                                 0\n",
       "Minimum temperature (°C)             0\n",
       "Maximum temperature (°C)             0\n",
       "Rainfall (mm)                        0\n",
       "Direction of maximum wind gust       0\n",
       "Speed of maximum wind gust (km/h)    0\n",
       "Time of maximum wind gust            0\n",
       "9am Temperature (°C)                 0\n",
       "9am relative humidity (%)            0\n",
       "9am wind direction                   0\n",
       "9am wind speed (km/h)                0\n",
       "9am MSL pressure (hPa)               0\n",
       "3pm Temperature (°C)                 0\n",
       "3pm relative humidity (%)            0\n",
       "3pm wind direction                   0\n",
       "3pm wind speed (km/h)                0\n",
       "3pm MSL pressure (hPa)               0\n",
       "dtype: int64"
      ]
     },
     "execution_count": 15,
     "metadata": {},
     "output_type": "execute_result"
    }
   ],
   "source": [
    "# Checking for any more missing values\n",
    "weather.isnull().sum() # No missing data"
   ]
  },
  {
   "cell_type": "code",
   "execution_count": 16,
   "id": "2ba5da54",
   "metadata": {},
   "outputs": [
    {
     "data": {
      "text/plain": [
       "array(['Melbourne (Olympic Park), Victoria'], dtype=object)"
      ]
     },
     "execution_count": 16,
     "metadata": {},
     "output_type": "execute_result"
    }
   ],
   "source": [
    "# All values in 'Location' column seem identical, checking this assumption\n",
    "weather['Location'].unique()"
   ]
  },
  {
   "cell_type": "code",
   "execution_count": 17,
   "id": "3d82174e",
   "metadata": {},
   "outputs": [],
   "source": [
    "# Now we can drop the 'Location' column because as it's a constant\n",
    "weather.drop(columns=['Location'], inplace=True)"
   ]
  },
  {
   "cell_type": "code",
   "execution_count": 18,
   "id": "39020a5b",
   "metadata": {},
   "outputs": [
    {
     "data": {
      "text/plain": [
       "Date                                  object\n",
       "Minimum temperature (°C)             float64\n",
       "Maximum temperature (°C)             float64\n",
       "Rainfall (mm)                        float64\n",
       "Direction of maximum wind gust        object\n",
       "Speed of maximum wind gust (km/h)    float64\n",
       "Time of maximum wind gust             object\n",
       "9am Temperature (°C)                 float64\n",
       "9am relative humidity (%)              int64\n",
       "9am wind direction                    object\n",
       "9am wind speed (km/h)                 object\n",
       "9am MSL pressure (hPa)               float64\n",
       "3pm Temperature (°C)                 float64\n",
       "3pm relative humidity (%)            float64\n",
       "3pm wind direction                    object\n",
       "3pm wind speed (km/h)                float64\n",
       "3pm MSL pressure (hPa)               float64\n",
       "dtype: object"
      ]
     },
     "execution_count": 18,
     "metadata": {},
     "output_type": "execute_result"
    }
   ],
   "source": [
    "# Checking data types for each column\n",
    "weather.dtypes"
   ]
  },
  {
   "cell_type": "code",
   "execution_count": 19,
   "id": "93495b3c",
   "metadata": {},
   "outputs": [
    {
     "data": {
      "text/plain": [
       "array(['13', '9', '6', '4', '15', '17', '11', '7', '24', '19', '22', '20',\n",
       "       '2', 'Calm'], dtype=object)"
      ]
     },
     "execution_count": 19,
     "metadata": {},
     "output_type": "execute_result"
    }
   ],
   "source": [
    "# '9am wind speed (km/h)' values are object dtype as opposed to expected numeric;\n",
    "# Checking unique values of the column\n",
    "weather['9am wind speed (km/h)'].unique()"
   ]
  },
  {
   "cell_type": "code",
   "execution_count": null,
   "id": "0b8f9314",
   "metadata": {},
   "outputs": [],
   "source": []
  },
  {
   "cell_type": "code",
   "execution_count": null,
   "id": "232f972d",
   "metadata": {},
   "outputs": [],
   "source": []
  },
  {
   "cell_type": "code",
   "execution_count": null,
   "id": "68a3d6e2",
   "metadata": {},
   "outputs": [],
   "source": []
  },
  {
   "cell_type": "code",
   "execution_count": null,
   "id": "517629a4",
   "metadata": {},
   "outputs": [],
   "source": []
  },
  {
   "cell_type": "code",
   "execution_count": null,
   "id": "1a69d588",
   "metadata": {},
   "outputs": [],
   "source": []
  },
  {
   "cell_type": "code",
   "execution_count": null,
   "id": "adfe8f84",
   "metadata": {},
   "outputs": [],
   "source": []
  },
  {
   "cell_type": "code",
   "execution_count": null,
   "id": "dec0b9f1",
   "metadata": {},
   "outputs": [],
   "source": []
  },
  {
   "cell_type": "code",
   "execution_count": null,
   "id": "23f623e9",
   "metadata": {},
   "outputs": [],
   "source": []
  },
  {
   "cell_type": "code",
   "execution_count": null,
   "id": "d8c4f91e",
   "metadata": {},
   "outputs": [],
   "source": []
  },
  {
   "cell_type": "code",
   "execution_count": null,
   "id": "eefdc9e0",
   "metadata": {},
   "outputs": [],
   "source": []
  },
  {
   "cell_type": "code",
   "execution_count": null,
   "id": "e45d17a5",
   "metadata": {},
   "outputs": [],
   "source": []
  },
  {
   "cell_type": "code",
   "execution_count": null,
   "id": "e70d70e8",
   "metadata": {},
   "outputs": [],
   "source": [
    "# \n"
   ]
  },
  {
   "cell_type": "code",
   "execution_count": null,
   "id": "30aeb76e",
   "metadata": {},
   "outputs": [],
   "source": [
    "# Check shape\n",
    "weather.shape"
   ]
  },
  {
   "cell_type": "code",
   "execution_count": null,
   "id": "3a5f72aa",
   "metadata": {},
   "outputs": [],
   "source": [
    "# Check for duplicate rows\n",
    "weather.duplicated().sum()"
   ]
  },
  {
   "cell_type": "code",
   "execution_count": null,
   "id": "d339f4b8",
   "metadata": {},
   "outputs": [],
   "source": [
    "# Check dtypes\n",
    "weather.dtypes"
   ]
  },
  {
   "cell_type": "code",
   "execution_count": null,
   "id": "2790982d",
   "metadata": {},
   "outputs": [],
   "source": [
    "# Do these match what we expected?\n",
    "\n",
    "# Note that \"9am wind speed (km/h)\" is listing \"object\" instead of the expected int64\n"
   ]
  },
  {
   "cell_type": "code",
   "execution_count": null,
   "id": "d1863293",
   "metadata": {},
   "outputs": [],
   "source": [
    "# Check missing values per column\n",
    "weather.isna().sum()"
   ]
  },
  {
   "cell_type": "code",
   "execution_count": null,
   "id": "ace32c0e",
   "metadata": {},
   "outputs": [],
   "source": [
    "# In the csv file there are multiple missing values for the \"9am wind direction\" column, yet here it's displaying 0? \n",
    "# Empty string might not be included in na values and might therefore not show up"
   ]
  },
  {
   "cell_type": "code",
   "execution_count": null,
   "id": "7edc7dc5",
   "metadata": {},
   "outputs": [],
   "source": [
    "# Check missing values per rows\n",
    "weather.isna().sum(axis=1)"
   ]
  },
  {
   "cell_type": "code",
   "execution_count": null,
   "id": "b335d3e8",
   "metadata": {},
   "outputs": [],
   "source": [
    "# Note column 174 has 13 missing values"
   ]
  },
  {
   "cell_type": "code",
   "execution_count": null,
   "id": "9de5e639",
   "metadata": {},
   "outputs": [],
   "source": [
    "# Get basic summary statistics for weather\n",
    "weather.describe()"
   ]
  },
  {
   "cell_type": "code",
   "execution_count": null,
   "id": "3cd2d66f",
   "metadata": {},
   "outputs": [],
   "source": [
    "# Looks plausible from the outset - we have domain knowledge as Melbourne citizens for general temperatures"
   ]
  },
  {
   "cell_type": "code",
   "execution_count": null,
   "id": "ae1949c4",
   "metadata": {},
   "outputs": [],
   "source": [
    "weather.tail()"
   ]
  },
  {
   "cell_type": "code",
   "execution_count": null,
   "id": "fa45b676",
   "metadata": {},
   "outputs": [],
   "source": [
    "# Get column labels\n",
    "weather.columns.values"
   ]
  },
  {
   "cell_type": "code",
   "execution_count": null,
   "id": "d625ac56",
   "metadata": {},
   "outputs": [],
   "source": [
    "to_drop = [\"Location\", \"Evaporation (mm)\", \"Sunshine (hours)\", \"Direction of maximum wind gust \", \n",
    "           'Time of maximum wind gust', \"9am cloud amount (oktas)\", '9am wind direction',\n",
    "           \"3pm cloud amount (oktas)\", \"3pm wind direction\"]\n",
    "weather.drop(to_drop, inplace=True, axis=1)"
   ]
  },
  {
   "cell_type": "code",
   "execution_count": null,
   "id": "c61cf2e6",
   "metadata": {},
   "outputs": [],
   "source": [
    "weather.head()"
   ]
  },
  {
   "cell_type": "code",
   "execution_count": null,
   "id": "ead630c5",
   "metadata": {},
   "outputs": [],
   "source": [
    "# Set Date as Index Column\n",
    "weather.set_index(\"Date\", inplace=True)\n",
    "weather.head()"
   ]
  },
  {
   "cell_type": "code",
   "execution_count": null,
   "id": "a59037a2",
   "metadata": {},
   "outputs": [],
   "source": [
    "weather.tail()"
   ]
  },
  {
   "cell_type": "code",
   "execution_count": null,
   "id": "6d77a743",
   "metadata": {},
   "outputs": [],
   "source": [
    "# Drop last row due to multiple missing datapoints\n",
    "weather.drop(\"24/04/2023\", inplace=True)\n",
    "weather.tail()"
   ]
  },
  {
   "cell_type": "code",
   "execution_count": null,
   "id": "5e7c0c8c",
   "metadata": {},
   "outputs": [],
   "source": [
    "# Checking quality of remaining data\n",
    "\n",
    "# Missing values from rows\n",
    "weather.isna().sum()"
   ]
  },
  {
   "cell_type": "code",
   "execution_count": null,
   "id": "e71a7d6d",
   "metadata": {},
   "outputs": [],
   "source": [
    "# Object types\n",
    "weather.dtypes"
   ]
  },
  {
   "cell_type": "code",
   "execution_count": null,
   "id": "8eda02fd",
   "metadata": {},
   "outputs": [],
   "source": [
    "#9am wind speed (km/h) shows a data type of \"object\"\n",
    "#Upon inspection of the data, it seems that where there was no wind, instead of 0, the input was \"Calm\"\n",
    "# Locate values for comparison\n",
    "\n",
    "weather[[\"9am wind speed (km/h)\"]].tail(40)\n"
   ]
  },
  {
   "cell_type": "code",
   "execution_count": null,
   "id": "446ba412",
   "metadata": {},
   "outputs": [],
   "source": [
    "#Replace \"Calm\" with 0.0 float using domain knowledge\n",
    "\n",
    "\n",
    "#Strip whitespace and convert all to int just to make sure\n",
    "weather[\"9am wind speed (km/h)\"] = weather[\"9am wind speed (km/h)\"].str.strip()\n",
    "\n",
    "weather[\"9am wind speed (km/h)\"] = weather[\"9am wind speed (km/h)\"].replace(\"Calm\", 0.0)\n",
    "\n",
    "\n",
    "weather[[\"9am wind speed (km/h)\"]].tail(40)"
   ]
  },
  {
   "cell_type": "code",
   "execution_count": null,
   "id": "5de8c075",
   "metadata": {},
   "outputs": [],
   "source": [
    "# Convert whole column to \"float\" type for numerical analysis"
   ]
  },
  {
   "cell_type": "code",
   "execution_count": null,
   "id": "bb06240f",
   "metadata": {},
   "outputs": [],
   "source": [
    "weather[\"9am wind speed (km/h)\"] = pd.to_numeric(weather[\"9am wind speed (km/h)\"], errors='coerce').astype(float)\n",
    "\n",
    "\n",
    "\n",
    "# Check that all data is numeric now (YAY!)\n",
    "weather.dtypes"
   ]
  },
  {
   "cell_type": "code",
   "execution_count": null,
   "id": "1b8286e9",
   "metadata": {},
   "outputs": [],
   "source": [
    "weather.dtypes"
   ]
  },
  {
   "cell_type": "code",
   "execution_count": null,
   "id": "d146ecf8",
   "metadata": {},
   "outputs": [],
   "source": [
    "weather[[\"9am wind speed (km/h)\"]].tail(40)"
   ]
  },
  {
   "cell_type": "code",
   "execution_count": null,
   "id": "5e145629",
   "metadata": {},
   "outputs": [],
   "source": [
    "display(weather)"
   ]
  },
  {
   "cell_type": "code",
   "execution_count": null,
   "id": "ea9c2374",
   "metadata": {},
   "outputs": [],
   "source": [
    "# Change date to datatime format\n",
    "weather.index = pd.to_datetime(weather.index, format='%d/%m/%Y')"
   ]
  },
  {
   "cell_type": "code",
   "execution_count": null,
   "id": "35d154d0",
   "metadata": {},
   "outputs": [],
   "source": [
    "display(weather)"
   ]
  },
  {
   "cell_type": "code",
   "execution_count": null,
   "id": "007baaa7",
   "metadata": {},
   "outputs": [],
   "source": [
    "# Change to correct format\n",
    "weather.index = weather.index.strftime('%d/%m/%Y')"
   ]
  },
  {
   "cell_type": "code",
   "execution_count": null,
   "id": "ee98894f",
   "metadata": {},
   "outputs": [],
   "source": [
    "display(weather)"
   ]
  },
  {
   "cell_type": "code",
   "execution_count": null,
   "id": "25754ba6",
   "metadata": {},
   "outputs": [],
   "source": []
  },
  {
   "cell_type": "code",
   "execution_count": null,
   "id": "16380bdc",
   "metadata": {},
   "outputs": [],
   "source": []
  },
  {
   "cell_type": "code",
   "execution_count": null,
   "id": "b7f3ec36",
   "metadata": {},
   "outputs": [],
   "source": []
  },
  {
   "cell_type": "code",
   "execution_count": null,
   "id": "d4882bc4",
   "metadata": {},
   "outputs": [],
   "source": []
  },
  {
   "cell_type": "code",
   "execution_count": null,
   "id": "13aa7ecd",
   "metadata": {},
   "outputs": [],
   "source": []
  },
  {
   "cell_type": "code",
   "execution_count": null,
   "id": "639c6f98",
   "metadata": {},
   "outputs": [],
   "source": []
  },
  {
   "cell_type": "code",
   "execution_count": null,
   "id": "608f7b89",
   "metadata": {},
   "outputs": [],
   "source": []
  },
  {
   "cell_type": "code",
   "execution_count": null,
   "id": "7da1ec53",
   "metadata": {},
   "outputs": [],
   "source": []
  },
  {
   "cell_type": "code",
   "execution_count": null,
   "id": "aca6e6a8",
   "metadata": {},
   "outputs": [],
   "source": []
  },
  {
   "cell_type": "code",
   "execution_count": null,
   "id": "e656693e",
   "metadata": {},
   "outputs": [],
   "source": []
  },
  {
   "cell_type": "code",
   "execution_count": null,
   "id": "4cf4b51e",
   "metadata": {},
   "outputs": [],
   "source": []
  },
  {
   "cell_type": "code",
   "execution_count": null,
   "id": "42ec7aa2",
   "metadata": {},
   "outputs": [],
   "source": []
  },
  {
   "cell_type": "code",
   "execution_count": null,
   "id": "c9e264cf",
   "metadata": {},
   "outputs": [],
   "source": []
  },
  {
   "cell_type": "code",
   "execution_count": null,
   "id": "38434531",
   "metadata": {},
   "outputs": [],
   "source": []
  },
  {
   "cell_type": "markdown",
   "id": "4a697890",
   "metadata": {},
   "source": [
    "# PRICE_AND_DEMAND"
   ]
  },
  {
   "cell_type": "code",
   "execution_count": null,
   "id": "cf575fc3",
   "metadata": {},
   "outputs": [],
   "source": [
    "price_and_demand = pd.read_csv(\"price_and_demand.csv\", header = None)"
   ]
  },
  {
   "cell_type": "code",
   "execution_count": null,
   "id": "502aff48",
   "metadata": {},
   "outputs": [],
   "source": [
    "price_and_demand.head(10)\n",
    "\n",
    "# Note it has no headers - need to manually insert"
   ]
  },
  {
   "cell_type": "code",
   "execution_count": null,
   "id": "26668159",
   "metadata": {},
   "outputs": [],
   "source": [
    "# Create headers based on original dataset\n",
    "headers = [\"Location\", \"Date & Time\", \"Total Demand\", \"Price\", \"Type\"]\n",
    "price_and_demand.columns = headers"
   ]
  },
  {
   "cell_type": "code",
   "execution_count": null,
   "id": "7b50a1ae",
   "metadata": {},
   "outputs": [],
   "source": [
    "price_and_demand.head()"
   ]
  },
  {
   "cell_type": "code",
   "execution_count": null,
   "id": "93eb9a3d",
   "metadata": {},
   "outputs": [],
   "source": [
    "# Check shape of df\n",
    "price_and_demand.shape"
   ]
  },
  {
   "cell_type": "code",
   "execution_count": null,
   "id": "09dbe79f",
   "metadata": {},
   "outputs": [],
   "source": [
    "# Check for dupplicated rows\n",
    "price_and_demand.duplicated().sum()"
   ]
  },
  {
   "cell_type": "code",
   "execution_count": null,
   "id": "ffc57f02",
   "metadata": {},
   "outputs": [],
   "source": [
    "# Check dtypes\n",
    "price_and_demand.dtypes"
   ]
  },
  {
   "cell_type": "code",
   "execution_count": null,
   "id": "1091b103",
   "metadata": {},
   "outputs": [],
   "source": [
    "# Seems consistent - the numerical columns all contain floats and no strings"
   ]
  },
  {
   "cell_type": "code",
   "execution_count": null,
   "id": "40d7ae47",
   "metadata": {},
   "outputs": [],
   "source": [
    "# Check missing values per column\n",
    "price_and_demand.isna().sum()"
   ]
  },
  {
   "cell_type": "code",
   "execution_count": null,
   "id": "c0d77ce0",
   "metadata": {},
   "outputs": [],
   "source": [
    "# No missing values in columns"
   ]
  },
  {
   "cell_type": "code",
   "execution_count": null,
   "id": "d3062af1",
   "metadata": {},
   "outputs": [],
   "source": [
    "price_and_demand.describe()"
   ]
  },
  {
   "cell_type": "code",
   "execution_count": null,
   "id": "d3bf1746",
   "metadata": {},
   "outputs": [],
   "source": [
    "\n",
    "# Min and max vlues seem to be quite high     min-918 (row 6361)    max-3944? (row 5170) - like everybody\n",
    "# came back from work and turned on their aircon - check out that day specifically"
   ]
  },
  {
   "cell_type": "code",
   "execution_count": null,
   "id": "607076f1",
   "metadata": {},
   "outputs": [],
   "source": [
    "price_and_demand.head()"
   ]
  },
  {
   "cell_type": "code",
   "execution_count": null,
   "id": "fe06e9d9",
   "metadata": {},
   "outputs": [],
   "source": [
    "# Drop the columns that I don't want - keep price for now just incase other group members think it might be relevant\n",
    "to_drop = [\"Location\", \"Type\"]\n",
    "price_and_demand.drop(to_drop, inplace=True, axis=1)"
   ]
  },
  {
   "cell_type": "code",
   "execution_count": null,
   "id": "e2ad11e5",
   "metadata": {},
   "outputs": [],
   "source": [
    "price_and_demand.head()"
   ]
  },
  {
   "cell_type": "code",
   "execution_count": null,
   "id": "1302744b",
   "metadata": {},
   "outputs": [],
   "source": [
    "#Separate date & time\n",
    "price_and_demand[['Date','Time']] = price_and_demand['Date & Time'].str.split(\" \", n=1, expand=True)"
   ]
  },
  {
   "cell_type": "code",
   "execution_count": null,
   "id": "d3f7062e",
   "metadata": {},
   "outputs": [],
   "source": [
    "price_and_demand.head()"
   ]
  },
  {
   "cell_type": "code",
   "execution_count": null,
   "id": "cb051c73",
   "metadata": {},
   "outputs": [],
   "source": [
    "# Drop original Data & Time column, and additional Time column\n",
    "to_drop = [\"Date & Time\", \"Time\"]\n",
    "price_and_demand.drop(to_drop, inplace=True, axis=1)\n",
    "price_and_demand.head()"
   ]
  },
  {
   "cell_type": "code",
   "execution_count": null,
   "id": "4fdc33a9",
   "metadata": {},
   "outputs": [],
   "source": [
    "price_and_demand.set_index(\"Date\", inplace=True)\n",
    "price_and_demand.tail()"
   ]
  },
  {
   "cell_type": "code",
   "execution_count": null,
   "id": "49b7037d",
   "metadata": {},
   "outputs": [],
   "source": [
    "price_and_demand.head()"
   ]
  },
  {
   "cell_type": "code",
   "execution_count": null,
   "id": "92402786",
   "metadata": {},
   "outputs": [],
   "source": [
    "# Remove 24-04-23 for joining with weather data\n",
    "price_and_demand.drop(\"24/04/2023\", inplace=True)"
   ]
  },
  {
   "cell_type": "code",
   "execution_count": null,
   "id": "b4e58b7f",
   "metadata": {},
   "outputs": [],
   "source": [
    "price_and_demand.tail()"
   ]
  },
  {
   "cell_type": "code",
   "execution_count": null,
   "id": "258fe3a6",
   "metadata": {},
   "outputs": [],
   "source": [
    "# Counting index values to determine if consistent\n",
    "index_counts = price_and_demand.index.value_counts()\n",
    "print(index_counts)"
   ]
  },
  {
   "cell_type": "code",
   "execution_count": null,
   "id": "9695ed75",
   "metadata": {},
   "outputs": [],
   "source": [
    "# Only 47 datapoints for 1/11/2022 - midnight / initial reading missing - found data from original source"
   ]
  },
  {
   "attachments": {
    "image.png": {
     "image/png": "[encoded data removed]"
    }
   },
   "cell_type": "markdown",
   "id": "ee697882",
   "metadata": {},
   "source": [
    "VIC1\t1/11/2022 0:00\t4455.59\t44.58\tTRADE\n",
    "![image.png](attachment:image.png)"
   ]
  },
  {
   "cell_type": "code",
   "execution_count": null,
   "id": "ac57bc4d",
   "metadata": {},
   "outputs": [],
   "source": [
    "price_and_demand.head()"
   ]
  },
  {
   "cell_type": "code",
   "execution_count": null,
   "id": "3b907b30",
   "metadata": {},
   "outputs": [],
   "source": [
    "# Create new DataFrame to concat newrowdf = pd.DataFrame(\"1/11/2022\", 4455.59, 44.58, index=[\"1/11/2022\"])\\\n",
    "newrow = {\"Total Demand\":4455.59, \"Price\":44.58}\n",
    "print(newrow)\n"
   ]
  },
  {
   "cell_type": "code",
   "execution_count": null,
   "id": "890fe9a4",
   "metadata": {},
   "outputs": [],
   "source": [
    "newrowdf = pd.DataFrame(newrow, index=[\"1/11/2022\"])"
   ]
  },
  {
   "cell_type": "code",
   "execution_count": null,
   "id": "a0c0eda4",
   "metadata": {},
   "outputs": [],
   "source": [
    "print(newrowdf)"
   ]
  },
  {
   "cell_type": "code",
   "execution_count": null,
   "id": "e003def5",
   "metadata": {},
   "outputs": [],
   "source": []
  },
  {
   "cell_type": "code",
   "execution_count": null,
   "id": "b08d09d1",
   "metadata": {},
   "outputs": [],
   "source": []
  },
  {
   "cell_type": "code",
   "execution_count": null,
   "id": "6f2e9e19",
   "metadata": {},
   "outputs": [],
   "source": [
    "newrowdf.head()"
   ]
  },
  {
   "cell_type": "code",
   "execution_count": null,
   "id": "68aa890b",
   "metadata": {},
   "outputs": [],
   "source": [
    "price_and_demand.head(2)"
   ]
  },
  {
   "cell_type": "code",
   "execution_count": null,
   "id": "50cd6942",
   "metadata": {},
   "outputs": [],
   "source": [
    "price_and_demand_new = pd.concat([newrowdf, price_and_demand])"
   ]
  },
  {
   "cell_type": "code",
   "execution_count": null,
   "id": "95ce0d91",
   "metadata": {},
   "outputs": [],
   "source": [
    "price_and_demand_new.head()"
   ]
  },
  {
   "cell_type": "code",
   "execution_count": null,
   "id": "51c9bc20",
   "metadata": {},
   "outputs": [],
   "source": [
    "# Double check consistent amounts\n",
    "# Counting index values to determine if consistent\n",
    "index_counts = price_and_demand_new.index.value_counts()\n",
    "print(index_counts)"
   ]
  },
  {
   "cell_type": "code",
   "execution_count": null,
   "id": "b91dc259",
   "metadata": {},
   "outputs": [],
   "source": [
    "price_and_demand_new.head()"
   ]
  },
  {
   "cell_type": "code",
   "execution_count": null,
   "id": "f98a5708",
   "metadata": {},
   "outputs": [],
   "source": [
    "# Convert to datetime format to preserve ordering\n",
    "price_and_demand_new.index = pd.to_datetime(price_and_demand_new.index, dayfirst=True)"
   ]
  },
  {
   "cell_type": "code",
   "execution_count": null,
   "id": "d280191c",
   "metadata": {},
   "outputs": [],
   "source": [
    "price_and_demand_new.head()"
   ]
  },
  {
   "cell_type": "code",
   "execution_count": null,
   "id": "180c7315",
   "metadata": {},
   "outputs": [],
   "source": [
    "# Change the Date to the correct format\n",
    "price_and_demand_new.index = price_and_demand_new.index.strftime('%d/%m/%Y')"
   ]
  },
  {
   "cell_type": "code",
   "execution_count": null,
   "id": "4b9e7acb",
   "metadata": {},
   "outputs": [],
   "source": [
    "price_and_demand_new.head()"
   ]
  },
  {
   "cell_type": "code",
   "execution_count": null,
   "id": "83f05d75",
   "metadata": {},
   "outputs": [],
   "source": [
    "# Create new column with Max Demand for same index\n",
    "\n",
    "#What are the max values for the for the first 2 unique indexes?\n",
    "max_demand_for_1nov = price_and_demand_new.loc['01/11/2022', 'Total Demand'].sum()\n",
    "\n",
    "print(max_demand_for_1nov)\n",
    "\n",
    "\n",
    "max_demand_for_2nov = price_and_demand_new.loc['02/11/2022', 'Total Demand'].sum()\n",
    "print(max_demand_for_2nov)\n",
    "\n",
    "# price_and_demand_new[\"Max Demand\"] = "
   ]
  },
  {
   "cell_type": "code",
   "execution_count": null,
   "id": "35f13b42",
   "metadata": {},
   "outputs": [],
   "source": [
    "# Add Max Demand column that selects the maximum value from a particular date i.e. max for 01/11/2022\n",
    "price_and_demand_new['Max Demand'] = price_and_demand_new.groupby(price_and_demand_new.index)['Total Demand'].transform('sum')"
   ]
  },
  {
   "cell_type": "code",
   "execution_count": null,
   "id": "801c15d3",
   "metadata": {},
   "outputs": [],
   "source": [
    "price_and_demand_new.head()"
   ]
  },
  {
   "cell_type": "code",
   "execution_count": null,
   "id": "dec3949f",
   "metadata": {},
   "outputs": [],
   "source": [
    "price_and_demand_new.tail()"
   ]
  },
  {
   "cell_type": "code",
   "execution_count": null,
   "id": "3bb476bc",
   "metadata": {},
   "outputs": [],
   "source": [
    "# Add Max Price column that selects the maximum value from a particular date i.e. max price for 01/11/2022\n",
    "price_and_demand_new['Max Price'] = price_and_demand_new.groupby(price_and_demand_new.index)['Price'].transform('sum')"
   ]
  },
  {
   "cell_type": "code",
   "execution_count": null,
   "id": "9d83d0af",
   "metadata": {},
   "outputs": [],
   "source": [
    "price_and_demand_new.head(50)"
   ]
  },
  {
   "cell_type": "code",
   "execution_count": null,
   "id": "85805771",
   "metadata": {},
   "outputs": [],
   "source": [
    "# Delete cols not being used\n",
    "to_drop = [\"Total Demand\", \"Price\"]\n",
    "price_and_demand_new.drop(to_drop, inplace=True, axis=1)"
   ]
  },
  {
   "cell_type": "code",
   "execution_count": null,
   "id": "10a539dc",
   "metadata": {},
   "outputs": [],
   "source": [
    "price_and_demand_new.head()"
   ]
  },
  {
   "cell_type": "code",
   "execution_count": null,
   "id": "f7914b15",
   "metadata": {},
   "outputs": [],
   "source": [
    "price_and_demand_new.index = price_and_demand_new.index.rename(\"Date\")"
   ]
  },
  {
   "cell_type": "code",
   "execution_count": null,
   "id": "b07a1c93",
   "metadata": {},
   "outputs": [],
   "source": [
    "price_and_demand_new.head()"
   ]
  },
  {
   "cell_type": "code",
   "execution_count": null,
   "id": "0abaadfb",
   "metadata": {},
   "outputs": [],
   "source": [
    "price_and_demand_new.reset_index(inplace=True)  # Convert the index to a regular column\n",
    "price_and_demand_new.drop_duplicates(subset='Date', keep='first', inplace=True)  # Drop duplicates based on the 'index' column\n",
    "price_and_demand_new.set_index('Date', inplace=True)  # Set the 'index' column"
   ]
  },
  {
   "cell_type": "code",
   "execution_count": null,
   "id": "1afd2388",
   "metadata": {},
   "outputs": [],
   "source": [
    "price_and_demand_new.head()"
   ]
  },
  {
   "cell_type": "code",
   "execution_count": null,
   "id": "8705f5f7",
   "metadata": {},
   "outputs": [],
   "source": [
    "# # DOUBLE CHECKING DATAFRAMES CAN BE JOINED\n",
    "price_and_demand_new.shape\n",
    "price_and_demand_new.dtypes\n",
    "price_and_demand_new.head()"
   ]
  },
  {
   "cell_type": "code",
   "execution_count": null,
   "id": "bdc42cac",
   "metadata": {},
   "outputs": [],
   "source": [
    "price_and_demand_new.tail()"
   ]
  },
  {
   "cell_type": "code",
   "execution_count": null,
   "id": "a6e6b418",
   "metadata": {},
   "outputs": [],
   "source": [
    "df = pd.merge(weather, price_and_demand_new, left_index=True, right_index=True)"
   ]
  },
  {
   "cell_type": "code",
   "execution_count": null,
   "id": "87d29ff0",
   "metadata": {},
   "outputs": [],
   "source": [
    "display(df)"
   ]
  },
  {
   "cell_type": "code",
   "execution_count": null,
   "id": "a6e9145f",
   "metadata": {},
   "outputs": [],
   "source": [
    "# CHECKING INTEGRITY OF NEW DATASET\n",
    "\n",
    "index_counts = price_and_demand_new.index.value_counts()\n",
    "print(index_counts)"
   ]
  },
  {
   "cell_type": "code",
   "execution_count": null,
   "id": "92940324",
   "metadata": {},
   "outputs": [],
   "source": [
    "# CHECK FOR MISSING COLUMN VALUES\n",
    "df.isna().sum()"
   ]
  },
  {
   "cell_type": "code",
   "execution_count": null,
   "id": "ceb566f0",
   "metadata": {},
   "outputs": [],
   "source": [
    "# CHECK DATA TYPES\n",
    "df.dtypes"
   ]
  },
  {
   "cell_type": "code",
   "execution_count": null,
   "id": "9e08402b",
   "metadata": {},
   "outputs": [],
   "source": [
    "display(df)"
   ]
  },
  {
   "cell_type": "code",
   "execution_count": null,
   "id": "fc0b6f22",
   "metadata": {},
   "outputs": [],
   "source": [
    "# CORRELATION AND MUTUAL INFORMATION"
   ]
  },
  {
   "cell_type": "code",
   "execution_count": null,
   "id": "e18754d4",
   "metadata": {},
   "outputs": [],
   "source": [
    "# Scatter Plot of Min Temp and Max Demand\n",
    "plt.scatter(df['Minimum temperature (°C)'],df['Max Demand'])\n",
    "plt.show()\n",
    "# Appears to be some sort of weak positive correlation\n",
    "\n",
    "#Pearson's r\n",
    "print(\"Pearson r is \",df['Minimum temperature (°C)'].corr(df['Max Demand']))"
   ]
  },
  {
   "cell_type": "code",
   "execution_count": null,
   "id": "63f57b21",
   "metadata": {},
   "outputs": [],
   "source": [
    "# Scatter Plot of Max Temp and Max Demand\n",
    "plt.scatter(df['Maximum temperature (°C)'],df['Max Demand'])\n",
    "plt.show()\n",
    "# Appears to be some sort of positive correlation\n",
    "\n",
    "#Pearson's r\n",
    "print(\"Pearson r is \",df['Maximum temperature (°C)'].corr(df['Max Demand']))"
   ]
  },
  {
   "cell_type": "code",
   "execution_count": null,
   "id": "be1770fc",
   "metadata": {},
   "outputs": [],
   "source": [
    "# Scatter Plot of Rainfall and Max Demand\n",
    "plt.scatter(df['Rainfall (mm)'],df['Max Demand'])\n",
    "plt.show()\n",
    "# Appears to be no correlation\n",
    "\n",
    "#Pearson's r\n",
    "print(\"Pearson r is \",df['Rainfall (mm)'].corr(df['Max Demand']))"
   ]
  },
  {
   "cell_type": "code",
   "execution_count": null,
   "id": "2e55e57f",
   "metadata": {},
   "outputs": [],
   "source": [
    "# Scatter Plot of Speed of maximum wind gust (km/h) and Max Demand\n",
    "plt.scatter(df['Speed of maximum wind gust (km/h)'],df['Max Demand'])\n",
    "plt.show()\n",
    "# Appears to be some sort of positive correlation"
   ]
  },
  {
   "cell_type": "code",
   "execution_count": null,
   "id": "3d43bfbc",
   "metadata": {},
   "outputs": [],
   "source": [
    "# Scatter Plot of 9am Temperature (°C) and Max Demand\n",
    "plt.scatter(df['9am Temperature (°C)'],df['Max Demand'])\n",
    "plt.show()\n",
    "# Appears to be none or extremely weak negative correlation\n",
    "\n",
    "#Pearson's r\n",
    "print(\"Pearson r is \",df['9am Temperature (°C)'].corr(df['Max Demand']))"
   ]
  },
  {
   "cell_type": "code",
   "execution_count": null,
   "id": "1ae22b97",
   "metadata": {},
   "outputs": [],
   "source": [
    "# Scatter Plot of 9am relative humidity (%) and Max Demand\n",
    "plt.scatter(df['9am relative humidity (%)'],df['Max Demand'])\n",
    "plt.show()\n",
    "# Appears to be some sort of weak positive correlation / non-linear\n",
    "\n",
    "#Pearson's r\n",
    "print(\"Pearson r is \",df['9am relative humidity (%)'].corr(df['Max Demand']))"
   ]
  },
  {
   "cell_type": "code",
   "execution_count": null,
   "id": "54945a9c",
   "metadata": {},
   "outputs": [],
   "source": [
    "# Scatter Plot of 9am wind speed (km/h) and Max Demand\n",
    "plt.scatter(df['9am wind speed (km/h)'],df['Max Demand'])\n",
    "plt.show()\n",
    "# Appears to be no correlation or extemely weak \n",
    "\n",
    "print(df.dtypes)\n",
    "print(df.isnull().sum())\n",
    "\n",
    "#Pearson's r\n",
    "# GETTING AN ERROR FOR PEARSON'S - ITS BECAUSE OF VALUES OF 0 in the 9am Wind Speed Col - not correlated so don't bother\n",
    "print(\"Pearson r is \",df['9am wind speed (km/h)'].corr(df['Max Demand']))"
   ]
  },
  {
   "cell_type": "code",
   "execution_count": null,
   "id": "f1e345f8",
   "metadata": {},
   "outputs": [],
   "source": [
    "# Scatter Plot of 9am MSL pressure (hPa) and Max Demand\n",
    "plt.scatter(df['9am MSL pressure (hPa)'],df['Max Demand'])\n",
    "plt.show()\n",
    "# Appears to be no correlation\n",
    "\n",
    "#Pearson's r\n",
    "print(\"Pearson r is \",df['9am MSL pressure (hPa)'].corr(df['Max Demand']))"
   ]
  },
  {
   "cell_type": "code",
   "execution_count": null,
   "id": "30a31aa2",
   "metadata": {},
   "outputs": [],
   "source": [
    "# Scatter Plot of 3pm Temperature (°C) and Max Demand\n",
    "plt.scatter(df['3pm Temperature (°C)'],df['Max Demand'])\n",
    "plt.show()\n",
    "# Appears to be no correlation\n",
    "\n",
    "#Pearson's r\n",
    "print(\"Pearson r is \",df['3pm Temperature (°C)'].corr(df['Max Demand']))\n",
    "#Moderate positive correlation"
   ]
  },
  {
   "cell_type": "code",
   "execution_count": null,
   "id": "6b321f64",
   "metadata": {},
   "outputs": [],
   "source": [
    "# Scatter Plot of 3pm relative humidity (%) and Max Demand\n",
    "plt.scatter(df['3pm relative humidity (%)'],df['Max Demand'])\n",
    "plt.show()\n",
    "# Appears to be some sort of negative correlation (lower humidity means higher demand) but only towards the low range\n",
    "\n",
    "#Pearson's r\n",
    "print(\"Pearson r is \",df['3pm relative humidity (%)'].corr(df['Max Demand']))\n",
    "#Moderately negatively correlated\n",
    "#When there is very low wind, there is very high energy demand - could be non-linear?"
   ]
  },
  {
   "cell_type": "code",
   "execution_count": null,
   "id": "d935d37a",
   "metadata": {},
   "outputs": [],
   "source": [
    "# Scatter Plot of 3pm wind speed (km/h) and Max Demand\n",
    "plt.scatter(df['3pm wind speed (km/h)'],df['Max Demand'])\n",
    "plt.show()\n",
    "# Appears to be some sort of positive correlation\n"
   ]
  },
  {
   "cell_type": "code",
   "execution_count": null,
   "id": "051cc1ab",
   "metadata": {},
   "outputs": [],
   "source": [
    "# Scatter Plot of 3pm MSL pressure (hPa) and Max Demand\n",
    "plt.scatter(df['3pm MSL pressure (hPa)'],df['Max Demand'])\n",
    "plt.show()\n",
    "# Appears to be no correlation\n",
    "\n",
    "#Pearson's r\n",
    "print(\"Pearson r is \",df['3pm MSL pressure (hPa)'].corr(df['Max Demand']))\n",
    "#Moderate positive correlation"
   ]
  },
  {
   "cell_type": "code",
   "execution_count": null,
   "id": "a6dbbbe4",
   "metadata": {},
   "outputs": [],
   "source": [
    "# Scatter Plot of Price and Max Demand\n",
    "plt.scatter(df['Max Price'],df['Max Demand'])\n",
    "plt.show()\n",
    "# Appears to be no correlation \n",
    "\n",
    "#Pearson's r\n",
    "print(\"Pearson r is \",df['Max Price'].corr(df['Max Demand']))\n",
    "#Very weak correlation"
   ]
  },
  {
   "cell_type": "code",
   "execution_count": null,
   "id": "57aea85d",
   "metadata": {},
   "outputs": [],
   "source": [
    "# Scatter Plot of Max Price and Max Demand\n",
    "plt.scatter(df['Max Price'],df['Max Demand'])\n",
    "plt.show()\n",
    "# Appears to be some sort of positive correlation\n",
    "\n",
    "#Pearson's r\n",
    "print(\"Pearson r is \",df['Max Price'].corr(df['Max Demand']))\n",
    "#Weak correlation, and the variables are definitely related"
   ]
  },
  {
   "cell_type": "code",
   "execution_count": null,
   "id": "df632115",
   "metadata": {},
   "outputs": [],
   "source": [
    "# THE FEATURES MOST HIGHLY CORRELATED WITH MAXIMUM DEMAND ARE:\n",
    "\n",
    "# 3pm Temperature (°C):        0.\n",
    "# Maximum temperature (°C):    0.\n",
    "# 9am Temperature (°C):        0.\n",
    "# 3pm relative humidity (%):  -0.\n",
    "# Minimum temperature (°C)     0."
   ]
  },
  {
   "cell_type": "code",
   "execution_count": null,
   "id": "b42ac708",
   "metadata": {},
   "outputs": [],
   "source": [
    "# NEED TO DO BINNING"
   ]
  },
  {
   "cell_type": "code",
   "execution_count": null,
   "id": "95416f58",
   "metadata": {},
   "outputs": [],
   "source": []
  },
  {
   "cell_type": "code",
   "execution_count": null,
   "id": "8a0938ec",
   "metadata": {},
   "outputs": [],
   "source": []
  },
  {
   "cell_type": "code",
   "execution_count": null,
   "id": "008948a9",
   "metadata": {},
   "outputs": [],
   "source": []
  },
  {
   "cell_type": "code",
   "execution_count": null,
   "id": "8c7eaabb",
   "metadata": {},
   "outputs": [],
   "source": []
  },
  {
   "cell_type": "code",
   "execution_count": null,
   "id": "1987e0f8",
   "metadata": {},
   "outputs": [],
   "source": []
  },
  {
   "cell_type": "code",
   "execution_count": null,
   "id": "a42baeb3",
   "metadata": {},
   "outputs": [],
   "source": []
  },
  {
   "cell_type": "code",
   "execution_count": null,
   "id": "ec472f95",
   "metadata": {},
   "outputs": [],
   "source": []
  },
  {
   "cell_type": "code",
   "execution_count": null,
   "id": "fa6bdb75",
   "metadata": {},
   "outputs": [],
   "source": []
  },
  {
   "cell_type": "code",
   "execution_count": null,
   "id": "8e6d05d3",
   "metadata": {},
   "outputs": [],
   "source": []
  },
  {
   "cell_type": "code",
   "execution_count": null,
   "id": "bc3589b6",
   "metadata": {},
   "outputs": [],
   "source": []
  },
  {
   "cell_type": "code",
   "execution_count": null,
   "id": "fedaeeb0",
   "metadata": {},
   "outputs": [],
   "source": []
  },
  {
   "cell_type": "code",
   "execution_count": null,
   "id": "2c7bab4f",
   "metadata": {},
   "outputs": [],
   "source": []
  },
  {
   "cell_type": "code",
   "execution_count": null,
   "id": "9b15956b",
   "metadata": {},
   "outputs": [],
   "source": []
  },
  {
   "cell_type": "code",
   "execution_count": null,
   "id": "548e5761",
   "metadata": {},
   "outputs": [],
   "source": []
  },
  {
   "cell_type": "code",
   "execution_count": null,
   "id": "479fffc8",
   "metadata": {},
   "outputs": [],
   "source": []
  }
 ],
 "metadata": {
  "kernelspec": {
   "display_name": "Python 3 (ipykernel)",
   "language": "python",
   "name": "python3"
  },
  "language_info": {
   "codemirror_mode": {
    "name": "ipython",
    "version": 3
   },
   "file_extension": ".py",
   "mimetype": "text/x-python",
   "name": "python",
   "nbconvert_exporter": "python",
   "pygments_lexer": "ipython3",
   "version": "3.10.9"
  }
 },
 "nbformat": 4,
 "nbformat_minor": 5
}
