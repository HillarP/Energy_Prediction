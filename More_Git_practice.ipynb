{
 "cells": [
  {
   "attachments": {},
   "cell_type": "markdown",
   "metadata": {},
   "source": [
    "## Before submitting, please copy and paste all your code in one cell below to help us with marking: \n",
    "Please ONLY insert YOUR code here. You should NOT include code provided for you.\n",
    "Don't forget to include any helper functions that you wrote here."
   ]
  },
  {
   "cell_type": "code",
   "execution_count": null,
   "metadata": {},
   "outputs": [],
   "source": [
    "#For example: what we expect are any helper functions you wrote\n",
    "# and functions required for Tasks 1-5 here\n",
    "#Therefore, you should only have 5 functions below + any helper functions you wrote.\n",
    "\n",
    "#INSERT YOUR CODE HERE\n",
    "def find_x(board, goal):\n",
    "    #WRITE YOUR CODE HERE AND REMOVE pass\n",
    "    pass\n",
    "\n",
    "def move(orig_board, curr_board, piece, direction):\n",
    "    \"\"\"\n",
    "    \n",
    "    \"\"\"\n",
    "    #WRITE YOUR CODE HERE AND REMOVE pass\n",
    "    pass\n",
    "\n",
    "def is_winner(board, goal_tuple, piece):\n",
    "    \"\"\" \"\"\"\n",
    "    #WRITE YOUR CODE HERE AND REMOVE pass\n",
    "    pass\n",
    "\n",
    "def match_rooms_q_and_a(room_list, questions):\n",
    "    \"\"\"\n",
    "    \"\"\"\n",
    "    #WRITE YOUR CODE HERE AND REMOVE pass\n",
    "    pass\n",
    "\n",
    "def find_challenge(room_list, questions, room):\n",
    "    \"\"\"\n",
    "    \"\"\"\n",
    "    #WRITE YOUR CODE HERE AND REMOVE pass\n",
    "    pass  "
   ]
  }
 ],
 "metadata": {
  "kernelspec": {
   "display_name": "Python 3",
   "language": "python",
   "name": "python3"
  },
  "language_info": {
   "name": "python",
   "version": "3.11.2"
  },
  "orig_nbformat": 4,
  "vscode": {
   "interpreter": {
    "hash": "0324797e30633161aefb349c79bc8f3773ca1a44cadd179392abbe54886dd05f"
   }
  }
 },
 "nbformat": 4,
 "nbformat_minor": 2
}
